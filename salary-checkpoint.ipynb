{
 "cells": [
  {
   "cell_type": "markdown",
   "metadata": {},
   "source": [
    "# Salary dataset"
   ]
  },
  {
   "cell_type": "code",
   "execution_count": 1,
   "metadata": {},
   "outputs": [],
   "source": [
    "import pandas as pd\n",
    "import numpy as np\n",
    "import seaborn as sb"
   ]
  },
  {
   "cell_type": "code",
   "execution_count": 2,
   "metadata": {},
   "outputs": [],
   "source": [
    "s=pd.read_csv('salary.csv')"
   ]
  },
  {
   "cell_type": "code",
   "execution_count": 3,
   "metadata": {},
   "outputs": [
    {
     "data": {
      "text/html": [
       "<div>\n",
       "<style scoped>\n",
       "    .dataframe tbody tr th:only-of-type {\n",
       "        vertical-align: middle;\n",
       "    }\n",
       "\n",
       "    .dataframe tbody tr th {\n",
       "        vertical-align: top;\n",
       "    }\n",
       "\n",
       "    .dataframe thead th {\n",
       "        text-align: right;\n",
       "    }\n",
       "</style>\n",
       "<table border=\"1\" class=\"dataframe\">\n",
       "  <thead>\n",
       "    <tr style=\"text-align: right;\">\n",
       "      <th></th>\n",
       "      <th>Id</th>\n",
       "      <th>EmployeeName</th>\n",
       "      <th>JobTitle</th>\n",
       "      <th>BasePay</th>\n",
       "      <th>OvertimePay</th>\n",
       "      <th>OtherPay</th>\n",
       "      <th>Benefits</th>\n",
       "      <th>TotalPay</th>\n",
       "      <th>TotalPayBenefits</th>\n",
       "      <th>Year</th>\n",
       "      <th>Notes</th>\n",
       "      <th>Agency</th>\n",
       "      <th>Status</th>\n",
       "    </tr>\n",
       "  </thead>\n",
       "  <tbody>\n",
       "    <tr>\n",
       "      <th>0</th>\n",
       "      <td>1</td>\n",
       "      <td>NATHANIEL FORD</td>\n",
       "      <td>GENERAL MANAGER-METROPOLITAN TRANSIT AUTHORITY</td>\n",
       "      <td>167411.18</td>\n",
       "      <td>0.00</td>\n",
       "      <td>400184.25</td>\n",
       "      <td>NaN</td>\n",
       "      <td>567595.43</td>\n",
       "      <td>567595.43</td>\n",
       "      <td>2011.0</td>\n",
       "      <td>NaN</td>\n",
       "      <td>San Francisco</td>\n",
       "      <td>NaN</td>\n",
       "    </tr>\n",
       "    <tr>\n",
       "      <th>1</th>\n",
       "      <td>2</td>\n",
       "      <td>GARY JIMENEZ</td>\n",
       "      <td>CAPTAIN III (POLICE DEPARTMENT)</td>\n",
       "      <td>155966.02</td>\n",
       "      <td>245131.88</td>\n",
       "      <td>137811.38</td>\n",
       "      <td>NaN</td>\n",
       "      <td>538909.28</td>\n",
       "      <td>538909.28</td>\n",
       "      <td>2011.0</td>\n",
       "      <td>NaN</td>\n",
       "      <td>San Francisco</td>\n",
       "      <td>NaN</td>\n",
       "    </tr>\n",
       "    <tr>\n",
       "      <th>2</th>\n",
       "      <td>3</td>\n",
       "      <td>ALBERT PARDINI</td>\n",
       "      <td>CAPTAIN III (POLICE DEPARTMENT)</td>\n",
       "      <td>212739.13</td>\n",
       "      <td>106088.18</td>\n",
       "      <td>16452.60</td>\n",
       "      <td>NaN</td>\n",
       "      <td>335279.91</td>\n",
       "      <td>335279.91</td>\n",
       "      <td>2011.0</td>\n",
       "      <td>NaN</td>\n",
       "      <td>San Francisco</td>\n",
       "      <td>NaN</td>\n",
       "    </tr>\n",
       "    <tr>\n",
       "      <th>3</th>\n",
       "      <td>4</td>\n",
       "      <td>CHRISTOPHER CHONG</td>\n",
       "      <td>WIRE ROPE CABLE MAINTENANCE MECHANIC</td>\n",
       "      <td>77916.00</td>\n",
       "      <td>56120.71</td>\n",
       "      <td>198306.90</td>\n",
       "      <td>NaN</td>\n",
       "      <td>332343.61</td>\n",
       "      <td>332343.61</td>\n",
       "      <td>2011.0</td>\n",
       "      <td>NaN</td>\n",
       "      <td>San Francisco</td>\n",
       "      <td>NaN</td>\n",
       "    </tr>\n",
       "    <tr>\n",
       "      <th>4</th>\n",
       "      <td>5</td>\n",
       "      <td>PATRICK GARDNER</td>\n",
       "      <td>DEPUTY CHIEF OF DEPARTMENT,(FIRE DEPARTMENT)</td>\n",
       "      <td>134401.60</td>\n",
       "      <td>9737.00</td>\n",
       "      <td>182234.59</td>\n",
       "      <td>NaN</td>\n",
       "      <td>326373.19</td>\n",
       "      <td>326373.19</td>\n",
       "      <td>2011.0</td>\n",
       "      <td>NaN</td>\n",
       "      <td>San Francisco</td>\n",
       "      <td>NaN</td>\n",
       "    </tr>\n",
       "    <tr>\n",
       "      <th>...</th>\n",
       "      <td>...</td>\n",
       "      <td>...</td>\n",
       "      <td>...</td>\n",
       "      <td>...</td>\n",
       "      <td>...</td>\n",
       "      <td>...</td>\n",
       "      <td>...</td>\n",
       "      <td>...</td>\n",
       "      <td>...</td>\n",
       "      <td>...</td>\n",
       "      <td>...</td>\n",
       "      <td>...</td>\n",
       "      <td>...</td>\n",
       "    </tr>\n",
       "    <tr>\n",
       "      <th>20629</th>\n",
       "      <td>20630</td>\n",
       "      <td>YIZHENG YU</td>\n",
       "      <td>GENERAL LABORER</td>\n",
       "      <td>56796.93</td>\n",
       "      <td>3887.67</td>\n",
       "      <td>621.99</td>\n",
       "      <td>NaN</td>\n",
       "      <td>61306.59</td>\n",
       "      <td>61306.59</td>\n",
       "      <td>2011.0</td>\n",
       "      <td>NaN</td>\n",
       "      <td>San Francisco</td>\n",
       "      <td>NaN</td>\n",
       "    </tr>\n",
       "    <tr>\n",
       "      <th>20630</th>\n",
       "      <td>20631</td>\n",
       "      <td>HANA HO</td>\n",
       "      <td>SENIOR ACCOUNT CLERK</td>\n",
       "      <td>61299.08</td>\n",
       "      <td>0.00</td>\n",
       "      <td>0.00</td>\n",
       "      <td>NaN</td>\n",
       "      <td>61299.08</td>\n",
       "      <td>61299.08</td>\n",
       "      <td>2011.0</td>\n",
       "      <td>NaN</td>\n",
       "      <td>San Francisco</td>\n",
       "      <td>NaN</td>\n",
       "    </tr>\n",
       "    <tr>\n",
       "      <th>20631</th>\n",
       "      <td>20632</td>\n",
       "      <td>VILMA RUIZ</td>\n",
       "      <td>PAYROLL CLERK</td>\n",
       "      <td>59320.16</td>\n",
       "      <td>314.58</td>\n",
       "      <td>1663.74</td>\n",
       "      <td>NaN</td>\n",
       "      <td>61298.48</td>\n",
       "      <td>61298.48</td>\n",
       "      <td>2011.0</td>\n",
       "      <td>NaN</td>\n",
       "      <td>San Francisco</td>\n",
       "      <td>NaN</td>\n",
       "    </tr>\n",
       "    <tr>\n",
       "      <th>20632</th>\n",
       "      <td>20633</td>\n",
       "      <td>SANNIE CHEUNG</td>\n",
       "      <td>CUSTODIAL ASSISTANT SUPERVISOR</td>\n",
       "      <td>53303.90</td>\n",
       "      <td>2543.50</td>\n",
       "      <td>5442.61</td>\n",
       "      <td>NaN</td>\n",
       "      <td>61290.01</td>\n",
       "      <td>61290.01</td>\n",
       "      <td>2011.0</td>\n",
       "      <td>NaN</td>\n",
       "      <td>San Francisco</td>\n",
       "      <td>NaN</td>\n",
       "    </tr>\n",
       "    <tr>\n",
       "      <th>20633</th>\n",
       "      <td>20634</td>\n",
       "      <td>JASMIN CARDO</td>\n",
       "      <td>NaN</td>\n",
       "      <td>NaN</td>\n",
       "      <td>NaN</td>\n",
       "      <td>NaN</td>\n",
       "      <td>NaN</td>\n",
       "      <td>NaN</td>\n",
       "      <td>NaN</td>\n",
       "      <td>NaN</td>\n",
       "      <td>NaN</td>\n",
       "      <td>NaN</td>\n",
       "      <td>NaN</td>\n",
       "    </tr>\n",
       "  </tbody>\n",
       "</table>\n",
       "<p>20634 rows × 13 columns</p>\n",
       "</div>"
      ],
      "text/plain": [
       "          Id       EmployeeName  \\\n",
       "0          1     NATHANIEL FORD   \n",
       "1          2       GARY JIMENEZ   \n",
       "2          3     ALBERT PARDINI   \n",
       "3          4  CHRISTOPHER CHONG   \n",
       "4          5    PATRICK GARDNER   \n",
       "...      ...                ...   \n",
       "20629  20630         YIZHENG YU   \n",
       "20630  20631            HANA HO   \n",
       "20631  20632         VILMA RUIZ   \n",
       "20632  20633      SANNIE CHEUNG   \n",
       "20633  20634       JASMIN CARDO   \n",
       "\n",
       "                                             JobTitle    BasePay  OvertimePay  \\\n",
       "0      GENERAL MANAGER-METROPOLITAN TRANSIT AUTHORITY  167411.18         0.00   \n",
       "1                     CAPTAIN III (POLICE DEPARTMENT)  155966.02    245131.88   \n",
       "2                     CAPTAIN III (POLICE DEPARTMENT)  212739.13    106088.18   \n",
       "3                WIRE ROPE CABLE MAINTENANCE MECHANIC   77916.00     56120.71   \n",
       "4        DEPUTY CHIEF OF DEPARTMENT,(FIRE DEPARTMENT)  134401.60      9737.00   \n",
       "...                                               ...        ...          ...   \n",
       "20629                                 GENERAL LABORER   56796.93      3887.67   \n",
       "20630                            SENIOR ACCOUNT CLERK   61299.08         0.00   \n",
       "20631                                   PAYROLL CLERK   59320.16       314.58   \n",
       "20632                  CUSTODIAL ASSISTANT SUPERVISOR   53303.90      2543.50   \n",
       "20633                                             NaN        NaN          NaN   \n",
       "\n",
       "        OtherPay  Benefits   TotalPay  TotalPayBenefits    Year  Notes  \\\n",
       "0      400184.25       NaN  567595.43         567595.43  2011.0    NaN   \n",
       "1      137811.38       NaN  538909.28         538909.28  2011.0    NaN   \n",
       "2       16452.60       NaN  335279.91         335279.91  2011.0    NaN   \n",
       "3      198306.90       NaN  332343.61         332343.61  2011.0    NaN   \n",
       "4      182234.59       NaN  326373.19         326373.19  2011.0    NaN   \n",
       "...          ...       ...        ...               ...     ...    ...   \n",
       "20629     621.99       NaN   61306.59          61306.59  2011.0    NaN   \n",
       "20630       0.00       NaN   61299.08          61299.08  2011.0    NaN   \n",
       "20631    1663.74       NaN   61298.48          61298.48  2011.0    NaN   \n",
       "20632    5442.61       NaN   61290.01          61290.01  2011.0    NaN   \n",
       "20633        NaN       NaN        NaN               NaN     NaN    NaN   \n",
       "\n",
       "              Agency  Status  \n",
       "0      San Francisco     NaN  \n",
       "1      San Francisco     NaN  \n",
       "2      San Francisco     NaN  \n",
       "3      San Francisco     NaN  \n",
       "4      San Francisco     NaN  \n",
       "...              ...     ...  \n",
       "20629  San Francisco     NaN  \n",
       "20630  San Francisco     NaN  \n",
       "20631  San Francisco     NaN  \n",
       "20632  San Francisco     NaN  \n",
       "20633            NaN     NaN  \n",
       "\n",
       "[20634 rows x 13 columns]"
      ]
     },
     "execution_count": 3,
     "metadata": {},
     "output_type": "execute_result"
    }
   ],
   "source": [
    "s"
   ]
  },
  {
   "cell_type": "code",
   "execution_count": 4,
   "metadata": {},
   "outputs": [],
   "source": [
    "#looking for Nan values"
   ]
  },
  {
   "cell_type": "code",
   "execution_count": 5,
   "metadata": {},
   "outputs": [
    {
     "data": {
      "text/plain": [
       "Id                      0\n",
       "EmployeeName            0\n",
       "JobTitle                1\n",
       "BasePay                 1\n",
       "OvertimePay             1\n",
       "OtherPay                1\n",
       "Benefits            20634\n",
       "TotalPay                1\n",
       "TotalPayBenefits        1\n",
       "Year                    1\n",
       "Notes               20634\n",
       "Agency                  1\n",
       "Status              20634\n",
       "dtype: int64"
      ]
     },
     "execution_count": 5,
     "metadata": {},
     "output_type": "execute_result"
    }
   ],
   "source": [
    "s.isnull().sum()"
   ]
  },
  {
   "cell_type": "code",
   "execution_count": 6,
   "metadata": {},
   "outputs": [
    {
     "data": {
      "text/plain": [
       "(20634, 13)"
      ]
     },
     "execution_count": 6,
     "metadata": {},
     "output_type": "execute_result"
    }
   ],
   "source": [
    "s.shape"
   ]
  },
  {
   "cell_type": "code",
   "execution_count": 7,
   "metadata": {},
   "outputs": [],
   "source": [
    "#dropping 4 columns as they are null and has no effect on data"
   ]
  },
  {
   "cell_type": "code",
   "execution_count": 8,
   "metadata": {},
   "outputs": [],
   "source": [
    "s.drop('Benefits',axis=1,inplace=True)\n",
    "s.drop('Notes',axis=1,inplace=True)\n",
    "s.drop('Status',axis=1,inplace=True)\n",
    "s.drop('Year',axis=1,inplace=True)\n",
    "s.drop('Agency',axis=1,inplace=True)\n",
    "s.drop('TotalPayBenefits',axis=1,inplace= True)"
   ]
  },
  {
   "cell_type": "code",
   "execution_count": 9,
   "metadata": {},
   "outputs": [
    {
     "data": {
      "text/html": [
       "<div>\n",
       "<style scoped>\n",
       "    .dataframe tbody tr th:only-of-type {\n",
       "        vertical-align: middle;\n",
       "    }\n",
       "\n",
       "    .dataframe tbody tr th {\n",
       "        vertical-align: top;\n",
       "    }\n",
       "\n",
       "    .dataframe thead th {\n",
       "        text-align: right;\n",
       "    }\n",
       "</style>\n",
       "<table border=\"1\" class=\"dataframe\">\n",
       "  <thead>\n",
       "    <tr style=\"text-align: right;\">\n",
       "      <th></th>\n",
       "      <th>Id</th>\n",
       "      <th>EmployeeName</th>\n",
       "      <th>JobTitle</th>\n",
       "      <th>BasePay</th>\n",
       "      <th>OvertimePay</th>\n",
       "      <th>OtherPay</th>\n",
       "      <th>TotalPay</th>\n",
       "    </tr>\n",
       "  </thead>\n",
       "  <tbody>\n",
       "    <tr>\n",
       "      <th>0</th>\n",
       "      <td>1</td>\n",
       "      <td>NATHANIEL FORD</td>\n",
       "      <td>GENERAL MANAGER-METROPOLITAN TRANSIT AUTHORITY</td>\n",
       "      <td>167411.18</td>\n",
       "      <td>0.00</td>\n",
       "      <td>400184.25</td>\n",
       "      <td>567595.43</td>\n",
       "    </tr>\n",
       "    <tr>\n",
       "      <th>1</th>\n",
       "      <td>2</td>\n",
       "      <td>GARY JIMENEZ</td>\n",
       "      <td>CAPTAIN III (POLICE DEPARTMENT)</td>\n",
       "      <td>155966.02</td>\n",
       "      <td>245131.88</td>\n",
       "      <td>137811.38</td>\n",
       "      <td>538909.28</td>\n",
       "    </tr>\n",
       "    <tr>\n",
       "      <th>2</th>\n",
       "      <td>3</td>\n",
       "      <td>ALBERT PARDINI</td>\n",
       "      <td>CAPTAIN III (POLICE DEPARTMENT)</td>\n",
       "      <td>212739.13</td>\n",
       "      <td>106088.18</td>\n",
       "      <td>16452.60</td>\n",
       "      <td>335279.91</td>\n",
       "    </tr>\n",
       "    <tr>\n",
       "      <th>3</th>\n",
       "      <td>4</td>\n",
       "      <td>CHRISTOPHER CHONG</td>\n",
       "      <td>WIRE ROPE CABLE MAINTENANCE MECHANIC</td>\n",
       "      <td>77916.00</td>\n",
       "      <td>56120.71</td>\n",
       "      <td>198306.90</td>\n",
       "      <td>332343.61</td>\n",
       "    </tr>\n",
       "    <tr>\n",
       "      <th>4</th>\n",
       "      <td>5</td>\n",
       "      <td>PATRICK GARDNER</td>\n",
       "      <td>DEPUTY CHIEF OF DEPARTMENT,(FIRE DEPARTMENT)</td>\n",
       "      <td>134401.60</td>\n",
       "      <td>9737.00</td>\n",
       "      <td>182234.59</td>\n",
       "      <td>326373.19</td>\n",
       "    </tr>\n",
       "    <tr>\n",
       "      <th>...</th>\n",
       "      <td>...</td>\n",
       "      <td>...</td>\n",
       "      <td>...</td>\n",
       "      <td>...</td>\n",
       "      <td>...</td>\n",
       "      <td>...</td>\n",
       "      <td>...</td>\n",
       "    </tr>\n",
       "    <tr>\n",
       "      <th>20629</th>\n",
       "      <td>20630</td>\n",
       "      <td>YIZHENG YU</td>\n",
       "      <td>GENERAL LABORER</td>\n",
       "      <td>56796.93</td>\n",
       "      <td>3887.67</td>\n",
       "      <td>621.99</td>\n",
       "      <td>61306.59</td>\n",
       "    </tr>\n",
       "    <tr>\n",
       "      <th>20630</th>\n",
       "      <td>20631</td>\n",
       "      <td>HANA HO</td>\n",
       "      <td>SENIOR ACCOUNT CLERK</td>\n",
       "      <td>61299.08</td>\n",
       "      <td>0.00</td>\n",
       "      <td>0.00</td>\n",
       "      <td>61299.08</td>\n",
       "    </tr>\n",
       "    <tr>\n",
       "      <th>20631</th>\n",
       "      <td>20632</td>\n",
       "      <td>VILMA RUIZ</td>\n",
       "      <td>PAYROLL CLERK</td>\n",
       "      <td>59320.16</td>\n",
       "      <td>314.58</td>\n",
       "      <td>1663.74</td>\n",
       "      <td>61298.48</td>\n",
       "    </tr>\n",
       "    <tr>\n",
       "      <th>20632</th>\n",
       "      <td>20633</td>\n",
       "      <td>SANNIE CHEUNG</td>\n",
       "      <td>CUSTODIAL ASSISTANT SUPERVISOR</td>\n",
       "      <td>53303.90</td>\n",
       "      <td>2543.50</td>\n",
       "      <td>5442.61</td>\n",
       "      <td>61290.01</td>\n",
       "    </tr>\n",
       "    <tr>\n",
       "      <th>20633</th>\n",
       "      <td>20634</td>\n",
       "      <td>JASMIN CARDO</td>\n",
       "      <td>NaN</td>\n",
       "      <td>NaN</td>\n",
       "      <td>NaN</td>\n",
       "      <td>NaN</td>\n",
       "      <td>NaN</td>\n",
       "    </tr>\n",
       "  </tbody>\n",
       "</table>\n",
       "<p>20634 rows × 7 columns</p>\n",
       "</div>"
      ],
      "text/plain": [
       "          Id       EmployeeName  \\\n",
       "0          1     NATHANIEL FORD   \n",
       "1          2       GARY JIMENEZ   \n",
       "2          3     ALBERT PARDINI   \n",
       "3          4  CHRISTOPHER CHONG   \n",
       "4          5    PATRICK GARDNER   \n",
       "...      ...                ...   \n",
       "20629  20630         YIZHENG YU   \n",
       "20630  20631            HANA HO   \n",
       "20631  20632         VILMA RUIZ   \n",
       "20632  20633      SANNIE CHEUNG   \n",
       "20633  20634       JASMIN CARDO   \n",
       "\n",
       "                                             JobTitle    BasePay  OvertimePay  \\\n",
       "0      GENERAL MANAGER-METROPOLITAN TRANSIT AUTHORITY  167411.18         0.00   \n",
       "1                     CAPTAIN III (POLICE DEPARTMENT)  155966.02    245131.88   \n",
       "2                     CAPTAIN III (POLICE DEPARTMENT)  212739.13    106088.18   \n",
       "3                WIRE ROPE CABLE MAINTENANCE MECHANIC   77916.00     56120.71   \n",
       "4        DEPUTY CHIEF OF DEPARTMENT,(FIRE DEPARTMENT)  134401.60      9737.00   \n",
       "...                                               ...        ...          ...   \n",
       "20629                                 GENERAL LABORER   56796.93      3887.67   \n",
       "20630                            SENIOR ACCOUNT CLERK   61299.08         0.00   \n",
       "20631                                   PAYROLL CLERK   59320.16       314.58   \n",
       "20632                  CUSTODIAL ASSISTANT SUPERVISOR   53303.90      2543.50   \n",
       "20633                                             NaN        NaN          NaN   \n",
       "\n",
       "        OtherPay   TotalPay  \n",
       "0      400184.25  567595.43  \n",
       "1      137811.38  538909.28  \n",
       "2       16452.60  335279.91  \n",
       "3      198306.90  332343.61  \n",
       "4      182234.59  326373.19  \n",
       "...          ...        ...  \n",
       "20629     621.99   61306.59  \n",
       "20630       0.00   61299.08  \n",
       "20631    1663.74   61298.48  \n",
       "20632    5442.61   61290.01  \n",
       "20633        NaN        NaN  \n",
       "\n",
       "[20634 rows x 7 columns]"
      ]
     },
     "execution_count": 9,
     "metadata": {},
     "output_type": "execute_result"
    }
   ],
   "source": [
    "s"
   ]
  },
  {
   "cell_type": "code",
   "execution_count": 10,
   "metadata": {},
   "outputs": [],
   "source": [
    "#dropping a complete row as it is completely null and is not relevant"
   ]
  },
  {
   "cell_type": "code",
   "execution_count": 11,
   "metadata": {},
   "outputs": [],
   "source": [
    "s.drop(20633,inplace=True)"
   ]
  },
  {
   "cell_type": "code",
   "execution_count": 12,
   "metadata": {},
   "outputs": [
    {
     "data": {
      "text/html": [
       "<div>\n",
       "<style scoped>\n",
       "    .dataframe tbody tr th:only-of-type {\n",
       "        vertical-align: middle;\n",
       "    }\n",
       "\n",
       "    .dataframe tbody tr th {\n",
       "        vertical-align: top;\n",
       "    }\n",
       "\n",
       "    .dataframe thead th {\n",
       "        text-align: right;\n",
       "    }\n",
       "</style>\n",
       "<table border=\"1\" class=\"dataframe\">\n",
       "  <thead>\n",
       "    <tr style=\"text-align: right;\">\n",
       "      <th></th>\n",
       "      <th>Id</th>\n",
       "      <th>EmployeeName</th>\n",
       "      <th>JobTitle</th>\n",
       "      <th>BasePay</th>\n",
       "      <th>OvertimePay</th>\n",
       "      <th>OtherPay</th>\n",
       "      <th>TotalPay</th>\n",
       "    </tr>\n",
       "  </thead>\n",
       "  <tbody>\n",
       "    <tr>\n",
       "      <th>0</th>\n",
       "      <td>1</td>\n",
       "      <td>NATHANIEL FORD</td>\n",
       "      <td>GENERAL MANAGER-METROPOLITAN TRANSIT AUTHORITY</td>\n",
       "      <td>167411.18</td>\n",
       "      <td>0.00</td>\n",
       "      <td>400184.25</td>\n",
       "      <td>567595.43</td>\n",
       "    </tr>\n",
       "    <tr>\n",
       "      <th>1</th>\n",
       "      <td>2</td>\n",
       "      <td>GARY JIMENEZ</td>\n",
       "      <td>CAPTAIN III (POLICE DEPARTMENT)</td>\n",
       "      <td>155966.02</td>\n",
       "      <td>245131.88</td>\n",
       "      <td>137811.38</td>\n",
       "      <td>538909.28</td>\n",
       "    </tr>\n",
       "    <tr>\n",
       "      <th>2</th>\n",
       "      <td>3</td>\n",
       "      <td>ALBERT PARDINI</td>\n",
       "      <td>CAPTAIN III (POLICE DEPARTMENT)</td>\n",
       "      <td>212739.13</td>\n",
       "      <td>106088.18</td>\n",
       "      <td>16452.60</td>\n",
       "      <td>335279.91</td>\n",
       "    </tr>\n",
       "    <tr>\n",
       "      <th>3</th>\n",
       "      <td>4</td>\n",
       "      <td>CHRISTOPHER CHONG</td>\n",
       "      <td>WIRE ROPE CABLE MAINTENANCE MECHANIC</td>\n",
       "      <td>77916.00</td>\n",
       "      <td>56120.71</td>\n",
       "      <td>198306.90</td>\n",
       "      <td>332343.61</td>\n",
       "    </tr>\n",
       "    <tr>\n",
       "      <th>4</th>\n",
       "      <td>5</td>\n",
       "      <td>PATRICK GARDNER</td>\n",
       "      <td>DEPUTY CHIEF OF DEPARTMENT,(FIRE DEPARTMENT)</td>\n",
       "      <td>134401.60</td>\n",
       "      <td>9737.00</td>\n",
       "      <td>182234.59</td>\n",
       "      <td>326373.19</td>\n",
       "    </tr>\n",
       "    <tr>\n",
       "      <th>...</th>\n",
       "      <td>...</td>\n",
       "      <td>...</td>\n",
       "      <td>...</td>\n",
       "      <td>...</td>\n",
       "      <td>...</td>\n",
       "      <td>...</td>\n",
       "      <td>...</td>\n",
       "    </tr>\n",
       "    <tr>\n",
       "      <th>20628</th>\n",
       "      <td>20629</td>\n",
       "      <td>JAIME ANGELES</td>\n",
       "      <td>X-RAY LABORATORY AIDE</td>\n",
       "      <td>60086.60</td>\n",
       "      <td>397.07</td>\n",
       "      <td>824.00</td>\n",
       "      <td>61307.67</td>\n",
       "    </tr>\n",
       "    <tr>\n",
       "      <th>20629</th>\n",
       "      <td>20630</td>\n",
       "      <td>YIZHENG YU</td>\n",
       "      <td>GENERAL LABORER</td>\n",
       "      <td>56796.93</td>\n",
       "      <td>3887.67</td>\n",
       "      <td>621.99</td>\n",
       "      <td>61306.59</td>\n",
       "    </tr>\n",
       "    <tr>\n",
       "      <th>20630</th>\n",
       "      <td>20631</td>\n",
       "      <td>HANA HO</td>\n",
       "      <td>SENIOR ACCOUNT CLERK</td>\n",
       "      <td>61299.08</td>\n",
       "      <td>0.00</td>\n",
       "      <td>0.00</td>\n",
       "      <td>61299.08</td>\n",
       "    </tr>\n",
       "    <tr>\n",
       "      <th>20631</th>\n",
       "      <td>20632</td>\n",
       "      <td>VILMA RUIZ</td>\n",
       "      <td>PAYROLL CLERK</td>\n",
       "      <td>59320.16</td>\n",
       "      <td>314.58</td>\n",
       "      <td>1663.74</td>\n",
       "      <td>61298.48</td>\n",
       "    </tr>\n",
       "    <tr>\n",
       "      <th>20632</th>\n",
       "      <td>20633</td>\n",
       "      <td>SANNIE CHEUNG</td>\n",
       "      <td>CUSTODIAL ASSISTANT SUPERVISOR</td>\n",
       "      <td>53303.90</td>\n",
       "      <td>2543.50</td>\n",
       "      <td>5442.61</td>\n",
       "      <td>61290.01</td>\n",
       "    </tr>\n",
       "  </tbody>\n",
       "</table>\n",
       "<p>20633 rows × 7 columns</p>\n",
       "</div>"
      ],
      "text/plain": [
       "          Id       EmployeeName  \\\n",
       "0          1     NATHANIEL FORD   \n",
       "1          2       GARY JIMENEZ   \n",
       "2          3     ALBERT PARDINI   \n",
       "3          4  CHRISTOPHER CHONG   \n",
       "4          5    PATRICK GARDNER   \n",
       "...      ...                ...   \n",
       "20628  20629      JAIME ANGELES   \n",
       "20629  20630         YIZHENG YU   \n",
       "20630  20631            HANA HO   \n",
       "20631  20632         VILMA RUIZ   \n",
       "20632  20633      SANNIE CHEUNG   \n",
       "\n",
       "                                             JobTitle    BasePay  OvertimePay  \\\n",
       "0      GENERAL MANAGER-METROPOLITAN TRANSIT AUTHORITY  167411.18         0.00   \n",
       "1                     CAPTAIN III (POLICE DEPARTMENT)  155966.02    245131.88   \n",
       "2                     CAPTAIN III (POLICE DEPARTMENT)  212739.13    106088.18   \n",
       "3                WIRE ROPE CABLE MAINTENANCE MECHANIC   77916.00     56120.71   \n",
       "4        DEPUTY CHIEF OF DEPARTMENT,(FIRE DEPARTMENT)  134401.60      9737.00   \n",
       "...                                               ...        ...          ...   \n",
       "20628                           X-RAY LABORATORY AIDE   60086.60       397.07   \n",
       "20629                                 GENERAL LABORER   56796.93      3887.67   \n",
       "20630                            SENIOR ACCOUNT CLERK   61299.08         0.00   \n",
       "20631                                   PAYROLL CLERK   59320.16       314.58   \n",
       "20632                  CUSTODIAL ASSISTANT SUPERVISOR   53303.90      2543.50   \n",
       "\n",
       "        OtherPay   TotalPay  \n",
       "0      400184.25  567595.43  \n",
       "1      137811.38  538909.28  \n",
       "2       16452.60  335279.91  \n",
       "3      198306.90  332343.61  \n",
       "4      182234.59  326373.19  \n",
       "...          ...        ...  \n",
       "20628     824.00   61307.67  \n",
       "20629     621.99   61306.59  \n",
       "20630       0.00   61299.08  \n",
       "20631    1663.74   61298.48  \n",
       "20632    5442.61   61290.01  \n",
       "\n",
       "[20633 rows x 7 columns]"
      ]
     },
     "execution_count": 12,
     "metadata": {},
     "output_type": "execute_result"
    }
   ],
   "source": [
    "s"
   ]
  },
  {
   "cell_type": "code",
   "execution_count": 13,
   "metadata": {},
   "outputs": [
    {
     "data": {
      "text/plain": [
       "Id              0\n",
       "EmployeeName    0\n",
       "JobTitle        0\n",
       "BasePay         0\n",
       "OvertimePay     0\n",
       "OtherPay        0\n",
       "TotalPay        0\n",
       "dtype: int64"
      ]
     },
     "execution_count": 13,
     "metadata": {},
     "output_type": "execute_result"
    }
   ],
   "source": [
    "s.isnull().sum()"
   ]
  },
  {
   "cell_type": "code",
   "execution_count": 14,
   "metadata": {},
   "outputs": [],
   "source": [
    "s.drop('EmployeeName',axis=1,inplace=True)\n",
    "s.drop('Id',axis=1,inplace=True)\n",
    "#dropping as name and id has no affect on data"
   ]
  },
  {
   "cell_type": "code",
   "execution_count": 15,
   "metadata": {},
   "outputs": [
    {
     "data": {
      "text/html": [
       "<div>\n",
       "<style scoped>\n",
       "    .dataframe tbody tr th:only-of-type {\n",
       "        vertical-align: middle;\n",
       "    }\n",
       "\n",
       "    .dataframe tbody tr th {\n",
       "        vertical-align: top;\n",
       "    }\n",
       "\n",
       "    .dataframe thead th {\n",
       "        text-align: right;\n",
       "    }\n",
       "</style>\n",
       "<table border=\"1\" class=\"dataframe\">\n",
       "  <thead>\n",
       "    <tr style=\"text-align: right;\">\n",
       "      <th></th>\n",
       "      <th>JobTitle</th>\n",
       "      <th>BasePay</th>\n",
       "      <th>OvertimePay</th>\n",
       "      <th>OtherPay</th>\n",
       "      <th>TotalPay</th>\n",
       "    </tr>\n",
       "  </thead>\n",
       "  <tbody>\n",
       "    <tr>\n",
       "      <th>0</th>\n",
       "      <td>GENERAL MANAGER-METROPOLITAN TRANSIT AUTHORITY</td>\n",
       "      <td>167411.18</td>\n",
       "      <td>0.00</td>\n",
       "      <td>400184.25</td>\n",
       "      <td>567595.43</td>\n",
       "    </tr>\n",
       "    <tr>\n",
       "      <th>1</th>\n",
       "      <td>CAPTAIN III (POLICE DEPARTMENT)</td>\n",
       "      <td>155966.02</td>\n",
       "      <td>245131.88</td>\n",
       "      <td>137811.38</td>\n",
       "      <td>538909.28</td>\n",
       "    </tr>\n",
       "    <tr>\n",
       "      <th>2</th>\n",
       "      <td>CAPTAIN III (POLICE DEPARTMENT)</td>\n",
       "      <td>212739.13</td>\n",
       "      <td>106088.18</td>\n",
       "      <td>16452.60</td>\n",
       "      <td>335279.91</td>\n",
       "    </tr>\n",
       "    <tr>\n",
       "      <th>3</th>\n",
       "      <td>WIRE ROPE CABLE MAINTENANCE MECHANIC</td>\n",
       "      <td>77916.00</td>\n",
       "      <td>56120.71</td>\n",
       "      <td>198306.90</td>\n",
       "      <td>332343.61</td>\n",
       "    </tr>\n",
       "    <tr>\n",
       "      <th>4</th>\n",
       "      <td>DEPUTY CHIEF OF DEPARTMENT,(FIRE DEPARTMENT)</td>\n",
       "      <td>134401.60</td>\n",
       "      <td>9737.00</td>\n",
       "      <td>182234.59</td>\n",
       "      <td>326373.19</td>\n",
       "    </tr>\n",
       "    <tr>\n",
       "      <th>...</th>\n",
       "      <td>...</td>\n",
       "      <td>...</td>\n",
       "      <td>...</td>\n",
       "      <td>...</td>\n",
       "      <td>...</td>\n",
       "    </tr>\n",
       "    <tr>\n",
       "      <th>20628</th>\n",
       "      <td>X-RAY LABORATORY AIDE</td>\n",
       "      <td>60086.60</td>\n",
       "      <td>397.07</td>\n",
       "      <td>824.00</td>\n",
       "      <td>61307.67</td>\n",
       "    </tr>\n",
       "    <tr>\n",
       "      <th>20629</th>\n",
       "      <td>GENERAL LABORER</td>\n",
       "      <td>56796.93</td>\n",
       "      <td>3887.67</td>\n",
       "      <td>621.99</td>\n",
       "      <td>61306.59</td>\n",
       "    </tr>\n",
       "    <tr>\n",
       "      <th>20630</th>\n",
       "      <td>SENIOR ACCOUNT CLERK</td>\n",
       "      <td>61299.08</td>\n",
       "      <td>0.00</td>\n",
       "      <td>0.00</td>\n",
       "      <td>61299.08</td>\n",
       "    </tr>\n",
       "    <tr>\n",
       "      <th>20631</th>\n",
       "      <td>PAYROLL CLERK</td>\n",
       "      <td>59320.16</td>\n",
       "      <td>314.58</td>\n",
       "      <td>1663.74</td>\n",
       "      <td>61298.48</td>\n",
       "    </tr>\n",
       "    <tr>\n",
       "      <th>20632</th>\n",
       "      <td>CUSTODIAL ASSISTANT SUPERVISOR</td>\n",
       "      <td>53303.90</td>\n",
       "      <td>2543.50</td>\n",
       "      <td>5442.61</td>\n",
       "      <td>61290.01</td>\n",
       "    </tr>\n",
       "  </tbody>\n",
       "</table>\n",
       "<p>20633 rows × 5 columns</p>\n",
       "</div>"
      ],
      "text/plain": [
       "                                             JobTitle    BasePay  OvertimePay  \\\n",
       "0      GENERAL MANAGER-METROPOLITAN TRANSIT AUTHORITY  167411.18         0.00   \n",
       "1                     CAPTAIN III (POLICE DEPARTMENT)  155966.02    245131.88   \n",
       "2                     CAPTAIN III (POLICE DEPARTMENT)  212739.13    106088.18   \n",
       "3                WIRE ROPE CABLE MAINTENANCE MECHANIC   77916.00     56120.71   \n",
       "4        DEPUTY CHIEF OF DEPARTMENT,(FIRE DEPARTMENT)  134401.60      9737.00   \n",
       "...                                               ...        ...          ...   \n",
       "20628                           X-RAY LABORATORY AIDE   60086.60       397.07   \n",
       "20629                                 GENERAL LABORER   56796.93      3887.67   \n",
       "20630                            SENIOR ACCOUNT CLERK   61299.08         0.00   \n",
       "20631                                   PAYROLL CLERK   59320.16       314.58   \n",
       "20632                  CUSTODIAL ASSISTANT SUPERVISOR   53303.90      2543.50   \n",
       "\n",
       "        OtherPay   TotalPay  \n",
       "0      400184.25  567595.43  \n",
       "1      137811.38  538909.28  \n",
       "2       16452.60  335279.91  \n",
       "3      198306.90  332343.61  \n",
       "4      182234.59  326373.19  \n",
       "...          ...        ...  \n",
       "20628     824.00   61307.67  \n",
       "20629     621.99   61306.59  \n",
       "20630       0.00   61299.08  \n",
       "20631    1663.74   61298.48  \n",
       "20632    5442.61   61290.01  \n",
       "\n",
       "[20633 rows x 5 columns]"
      ]
     },
     "execution_count": 15,
     "metadata": {},
     "output_type": "execute_result"
    }
   ],
   "source": [
    "s"
   ]
  },
  {
   "cell_type": "code",
   "execution_count": 16,
   "metadata": {},
   "outputs": [],
   "source": [
    "#Using Label Encoder"
   ]
  },
  {
   "cell_type": "code",
   "execution_count": 17,
   "metadata": {},
   "outputs": [],
   "source": [
    "import sklearn\n",
    "from sklearn import preprocessing\n",
    "le=preprocessing.LabelEncoder()"
   ]
  },
  {
   "cell_type": "code",
   "execution_count": 18,
   "metadata": {},
   "outputs": [],
   "source": [
    "s['JobTitle']=le.fit_transform(s['JobTitle'])"
   ]
  },
  {
   "cell_type": "code",
   "execution_count": 19,
   "metadata": {},
   "outputs": [
    {
     "data": {
      "text/html": [
       "<div>\n",
       "<style scoped>\n",
       "    .dataframe tbody tr th:only-of-type {\n",
       "        vertical-align: middle;\n",
       "    }\n",
       "\n",
       "    .dataframe tbody tr th {\n",
       "        vertical-align: top;\n",
       "    }\n",
       "\n",
       "    .dataframe thead th {\n",
       "        text-align: right;\n",
       "    }\n",
       "</style>\n",
       "<table border=\"1\" class=\"dataframe\">\n",
       "  <thead>\n",
       "    <tr style=\"text-align: right;\">\n",
       "      <th></th>\n",
       "      <th>JobTitle</th>\n",
       "      <th>BasePay</th>\n",
       "      <th>OvertimePay</th>\n",
       "      <th>OtherPay</th>\n",
       "      <th>TotalPay</th>\n",
       "    </tr>\n",
       "  </thead>\n",
       "  <tbody>\n",
       "    <tr>\n",
       "      <th>0</th>\n",
       "      <td>340</td>\n",
       "      <td>167411.18</td>\n",
       "      <td>0.00</td>\n",
       "      <td>400184.25</td>\n",
       "      <td>567595.43</td>\n",
       "    </tr>\n",
       "    <tr>\n",
       "      <th>1</th>\n",
       "      <td>111</td>\n",
       "      <td>155966.02</td>\n",
       "      <td>245131.88</td>\n",
       "      <td>137811.38</td>\n",
       "      <td>538909.28</td>\n",
       "    </tr>\n",
       "    <tr>\n",
       "      <th>2</th>\n",
       "      <td>111</td>\n",
       "      <td>212739.13</td>\n",
       "      <td>106088.18</td>\n",
       "      <td>16452.60</td>\n",
       "      <td>335279.91</td>\n",
       "    </tr>\n",
       "    <tr>\n",
       "      <th>3</th>\n",
       "      <td>881</td>\n",
       "      <td>77916.00</td>\n",
       "      <td>56120.71</td>\n",
       "      <td>198306.90</td>\n",
       "      <td>332343.61</td>\n",
       "    </tr>\n",
       "    <tr>\n",
       "      <th>4</th>\n",
       "      <td>236</td>\n",
       "      <td>134401.60</td>\n",
       "      <td>9737.00</td>\n",
       "      <td>182234.59</td>\n",
       "      <td>326373.19</td>\n",
       "    </tr>\n",
       "    <tr>\n",
       "      <th>...</th>\n",
       "      <td>...</td>\n",
       "      <td>...</td>\n",
       "      <td>...</td>\n",
       "      <td>...</td>\n",
       "      <td>...</td>\n",
       "    </tr>\n",
       "    <tr>\n",
       "      <th>20628</th>\n",
       "      <td>885</td>\n",
       "      <td>60086.60</td>\n",
       "      <td>397.07</td>\n",
       "      <td>824.00</td>\n",
       "      <td>61307.67</td>\n",
       "    </tr>\n",
       "    <tr>\n",
       "      <th>20629</th>\n",
       "      <td>338</td>\n",
       "      <td>56796.93</td>\n",
       "      <td>3887.67</td>\n",
       "      <td>621.99</td>\n",
       "      <td>61306.59</td>\n",
       "    </tr>\n",
       "    <tr>\n",
       "      <th>20630</th>\n",
       "      <td>661</td>\n",
       "      <td>61299.08</td>\n",
       "      <td>0.00</td>\n",
       "      <td>0.00</td>\n",
       "      <td>61299.08</td>\n",
       "    </tr>\n",
       "    <tr>\n",
       "      <th>20631</th>\n",
       "      <td>543</td>\n",
       "      <td>59320.16</td>\n",
       "      <td>314.58</td>\n",
       "      <td>1663.74</td>\n",
       "      <td>61298.48</td>\n",
       "    </tr>\n",
       "    <tr>\n",
       "      <th>20632</th>\n",
       "      <td>223</td>\n",
       "      <td>53303.90</td>\n",
       "      <td>2543.50</td>\n",
       "      <td>5442.61</td>\n",
       "      <td>61290.01</td>\n",
       "    </tr>\n",
       "  </tbody>\n",
       "</table>\n",
       "<p>20633 rows × 5 columns</p>\n",
       "</div>"
      ],
      "text/plain": [
       "       JobTitle    BasePay  OvertimePay   OtherPay   TotalPay\n",
       "0           340  167411.18         0.00  400184.25  567595.43\n",
       "1           111  155966.02    245131.88  137811.38  538909.28\n",
       "2           111  212739.13    106088.18   16452.60  335279.91\n",
       "3           881   77916.00     56120.71  198306.90  332343.61\n",
       "4           236  134401.60      9737.00  182234.59  326373.19\n",
       "...         ...        ...          ...        ...        ...\n",
       "20628       885   60086.60       397.07     824.00   61307.67\n",
       "20629       338   56796.93      3887.67     621.99   61306.59\n",
       "20630       661   61299.08         0.00       0.00   61299.08\n",
       "20631       543   59320.16       314.58    1663.74   61298.48\n",
       "20632       223   53303.90      2543.50    5442.61   61290.01\n",
       "\n",
       "[20633 rows x 5 columns]"
      ]
     },
     "execution_count": 19,
     "metadata": {},
     "output_type": "execute_result"
    }
   ],
   "source": [
    "s"
   ]
  },
  {
   "cell_type": "code",
   "execution_count": 20,
   "metadata": {},
   "outputs": [],
   "source": [
    "a=s.head(1000)"
   ]
  },
  {
   "cell_type": "markdown",
   "metadata": {},
   "source": [
    "Bivariate Analysis"
   ]
  },
  {
   "cell_type": "code",
   "execution_count": 21,
   "metadata": {},
   "outputs": [
    {
     "data": {
      "text/plain": [
       "<matplotlib.axes._subplots.AxesSubplot at 0x1ba02ecc5b0>"
      ]
     },
     "execution_count": 21,
     "metadata": {},
     "output_type": "execute_result"
    },
    {
     "data": {
      "image/png": "[encoded data removed]",
      "text/plain": [
       "<Figure size 432x288 with 1 Axes>"
      ]
     },
     "metadata": {
      "needs_background": "light"
     },
     "output_type": "display_data"
    }
   ],
   "source": [
    "sb.lineplot(x=a['JobTitle'],y=a['TotalPay'])"
   ]
  },
  {
   "cell_type": "code",
   "execution_count": 22,
   "metadata": {},
   "outputs": [],
   "source": [
    "#analysis shows that job encoded 370-380 are high paid rest encoded at 840-850 are high paid"
   ]
  },
  {
   "cell_type": "code",
   "execution_count": 23,
   "metadata": {},
   "outputs": [
    {
     "data": {
      "text/plain": [
       "<matplotlib.axes._subplots.AxesSubplot at 0x1ba0388c880>"
      ]
     },
     "execution_count": 23,
     "metadata": {},
     "output_type": "execute_result"
    },
    {
     "data": {
      "image/png": "[encoded data removed]",
      "text/plain": [
       "<Figure size 432x288 with 1 Axes>"
      ]
     },
     "metadata": {
      "needs_background": "light"
     },
     "output_type": "display_data"
    }
   ],
   "source": [
    "sb.barplot(x=a[\"OvertimePay\"],y=a[\"TotalPay\"])"
   ]
  },
  {
   "cell_type": "code",
   "execution_count": 24,
   "metadata": {},
   "outputs": [
    {
     "data": {
      "text/plain": [
       "<matplotlib.axes._subplots.AxesSubplot at 0x1ba7dec8100>"
      ]
     },
     "execution_count": 24,
     "metadata": {},
     "output_type": "execute_result"
    },
    {
     "data": {
      "image/png": "[encoded data removed]",
      "text/plain": [
       "<Figure size 432x288 with 1 Axes>"
      ]
     },
     "metadata": {
      "needs_background": "light"
     },
     "output_type": "display_data"
    }
   ],
   "source": [
    "sb.lineplot(x=a[\"OvertimePay\"],y=a[\"TotalPay\"])"
   ]
  },
  {
   "cell_type": "code",
   "execution_count": 25,
   "metadata": {},
   "outputs": [],
   "source": [
    "#Shows that most of the over time payment is between 0-100000 and more the over time pay more the total pay\n",
    "#Very few population lies in the category of overtime more than 130000"
   ]
  },
  {
   "cell_type": "code",
   "execution_count": 26,
   "metadata": {},
   "outputs": [
    {
     "data": {
      "text/plain": [
       "<matplotlib.axes._subplots.AxesSubplot at 0x1ba04a2ed90>"
      ]
     },
     "execution_count": 26,
     "metadata": {},
     "output_type": "execute_result"
    },
    {
     "data": {
      "image/png": "[encoded data removed]",
      "text/plain": [
       "<Figure size 432x288 with 1 Axes>"
      ]
     },
     "metadata": {
      "needs_background": "light"
     },
     "output_type": "display_data"
    }
   ],
   "source": [
    "sb.scatterplot(x=a['OtherPay'],y=a['TotalPay'])"
   ]
  },
  {
   "cell_type": "code",
   "execution_count": 27,
   "metadata": {},
   "outputs": [],
   "source": [
    "#shows there are a few outliers as hardly a few people have other pay beyond 2lac\n",
    "#Most of the population has other pay between 0-1lac as there is a lot of overlap data"
   ]
  },
  {
   "cell_type": "code",
   "execution_count": 28,
   "metadata": {},
   "outputs": [
    {
     "data": {
      "text/plain": [
       "<matplotlib.axes._subplots.AxesSubplot at 0x1ba04a516d0>"
      ]
     },
     "execution_count": 28,
     "metadata": {},
     "output_type": "execute_result"
    },
    {
     "data": {
      "image/png": "[encoded data removed]",
      "text/plain": [
       "<Figure size 432x288 with 1 Axes>"
      ]
     },
     "metadata": {
      "needs_background": "light"
     },
     "output_type": "display_data"
    }
   ],
   "source": [
    "sb.scatterplot(x=a['BasePay'],y=a['TotalPay'])"
   ]
  },
  {
   "cell_type": "code",
   "execution_count": 29,
   "metadata": {},
   "outputs": [],
   "source": [
    "#Indicates that there are few outliers and most of the population lies between 50k-2lac"
   ]
  },
  {
   "cell_type": "markdown",
   "metadata": {},
   "source": [
    "Univariate Analysis"
   ]
  },
  {
   "cell_type": "code",
   "execution_count": 30,
   "metadata": {},
   "outputs": [
    {
     "data": {
      "text/plain": [
       "<matplotlib.axes._subplots.AxesSubplot at 0x1ba04aebe50>"
      ]
     },
     "execution_count": 30,
     "metadata": {},
     "output_type": "execute_result"
    },
    {
     "data": {
      "image/png": "[encoded data removed]",
      "text/plain": [
       "<Figure size 432x288 with 1 Axes>"
      ]
     },
     "metadata": {
      "needs_background": "light"
     },
     "output_type": "display_data"
    }
   ],
   "source": [
    "a['BasePay'].plot.box()"
   ]
  },
  {
   "cell_type": "code",
   "execution_count": 31,
   "metadata": {},
   "outputs": [],
   "source": [
    "#shows Outliers"
   ]
  },
  {
   "cell_type": "code",
   "execution_count": 32,
   "metadata": {},
   "outputs": [
    {
     "data": {
      "text/plain": [
       "<matplotlib.axes._subplots.AxesSubplot at 0x1ba05b53d00>"
      ]
     },
     "execution_count": 32,
     "metadata": {},
     "output_type": "execute_result"
    },
    {
     "data": {
      "image/png": "[encoded data removed]",
      "text/plain": [
       "<Figure size 432x288 with 1 Axes>"
      ]
     },
     "metadata": {
      "needs_background": "light"
     },
     "output_type": "display_data"
    }
   ],
   "source": [
    "a['BasePay'].plot.hist()"
   ]
  },
  {
   "cell_type": "code",
   "execution_count": 33,
   "metadata": {},
   "outputs": [],
   "source": [
    "#data is almost normalized data. and most of population has base pay of 180000"
   ]
  },
  {
   "cell_type": "code",
   "execution_count": 34,
   "metadata": {},
   "outputs": [
    {
     "data": {
      "text/plain": [
       "<matplotlib.axes._subplots.AxesSubplot at 0x1ba05b4bd60>"
      ]
     },
     "execution_count": 34,
     "metadata": {},
     "output_type": "execute_result"
    },
    {
     "data": {
      "image/png": "[encoded data removed]",
      "text/plain": [
       "<Figure size 432x288 with 1 Axes>"
      ]
     },
     "metadata": {
      "needs_background": "light"
     },
     "output_type": "display_data"
    }
   ],
   "source": [
    "a['OvertimePay'].plot.hist(bins=10)"
   ]
  },
  {
   "cell_type": "code",
   "execution_count": 35,
   "metadata": {},
   "outputs": [],
   "source": [
    "#majority of overtime population is having over time between 0-5000. Data is right skewewd"
   ]
  },
  {
   "cell_type": "markdown",
   "metadata": {},
   "source": [
    "Multivariate Analysis"
   ]
  },
  {
   "cell_type": "code",
   "execution_count": 36,
   "metadata": {},
   "outputs": [
    {
     "data": {
      "text/plain": [
       "<seaborn.axisgrid.PairGrid at 0x1ba05c2b280>"
      ]
     },
     "execution_count": 36,
     "metadata": {},
     "output_type": "execute_result"
    },
    {
     "data": {
      "image/png": "[encoded data removed]",
      "text/plain": [
       "<Figure size 900x900 with 30 Axes>"
      ]
     },
     "metadata": {
      "needs_background": "light"
     },
     "output_type": "display_data"
    }
   ],
   "source": [
    "sb.pairplot(a)"
   ]
  },
  {
   "cell_type": "code",
   "execution_count": 37,
   "metadata": {},
   "outputs": [
    {
     "data": {
      "text/html": [
       "<div>\n",
       "<style scoped>\n",
       "    .dataframe tbody tr th:only-of-type {\n",
       "        vertical-align: middle;\n",
       "    }\n",
       "\n",
       "    .dataframe tbody tr th {\n",
       "        vertical-align: top;\n",
       "    }\n",
       "\n",
       "    .dataframe thead th {\n",
       "        text-align: right;\n",
       "    }\n",
       "</style>\n",
       "<table border=\"1\" class=\"dataframe\">\n",
       "  <thead>\n",
       "    <tr style=\"text-align: right;\">\n",
       "      <th></th>\n",
       "      <th>JobTitle</th>\n",
       "      <th>BasePay</th>\n",
       "      <th>OvertimePay</th>\n",
       "      <th>OtherPay</th>\n",
       "      <th>TotalPay</th>\n",
       "    </tr>\n",
       "  </thead>\n",
       "  <tbody>\n",
       "    <tr>\n",
       "      <th>count</th>\n",
       "      <td>20633.000000</td>\n",
       "      <td>20633.000000</td>\n",
       "      <td>20633.000000</td>\n",
       "      <td>20633.000000</td>\n",
       "      <td>20633.000000</td>\n",
       "    </tr>\n",
       "    <tr>\n",
       "      <th>mean</th>\n",
       "      <td>493.185673</td>\n",
       "      <td>91086.820759</td>\n",
       "      <td>7348.565565</td>\n",
       "      <td>5516.339545</td>\n",
       "      <td>103951.725870</td>\n",
       "    </tr>\n",
       "    <tr>\n",
       "      <th>std</th>\n",
       "      <td>236.590688</td>\n",
       "      <td>28527.213536</td>\n",
       "      <td>13094.967274</td>\n",
       "      <td>9887.474193</td>\n",
       "      <td>34651.036371</td>\n",
       "    </tr>\n",
       "    <tr>\n",
       "      <th>min</th>\n",
       "      <td>0.000000</td>\n",
       "      <td>0.000000</td>\n",
       "      <td>0.000000</td>\n",
       "      <td>0.000000</td>\n",
       "      <td>61290.010000</td>\n",
       "    </tr>\n",
       "    <tr>\n",
       "      <th>25%</th>\n",
       "      <td>316.000000</td>\n",
       "      <td>67709.640000</td>\n",
       "      <td>0.000000</td>\n",
       "      <td>120.000000</td>\n",
       "      <td>76009.730000</td>\n",
       "    </tr>\n",
       "    <tr>\n",
       "      <th>50%</th>\n",
       "      <td>527.000000</td>\n",
       "      <td>86057.940000</td>\n",
       "      <td>1705.270000</td>\n",
       "      <td>2106.620000</td>\n",
       "      <td>95361.010000</td>\n",
       "    </tr>\n",
       "    <tr>\n",
       "      <th>75%</th>\n",
       "      <td>679.000000</td>\n",
       "      <td>106385.700000</td>\n",
       "      <td>9009.580000</td>\n",
       "      <td>7334.100000</td>\n",
       "      <td>123290.700000</td>\n",
       "    </tr>\n",
       "    <tr>\n",
       "      <th>max</th>\n",
       "      <td>886.000000</td>\n",
       "      <td>294580.020000</td>\n",
       "      <td>245131.880000</td>\n",
       "      <td>400184.250000</td>\n",
       "      <td>567595.430000</td>\n",
       "    </tr>\n",
       "  </tbody>\n",
       "</table>\n",
       "</div>"
      ],
      "text/plain": [
       "           JobTitle        BasePay    OvertimePay       OtherPay  \\\n",
       "count  20633.000000   20633.000000   20633.000000   20633.000000   \n",
       "mean     493.185673   91086.820759    7348.565565    5516.339545   \n",
       "std      236.590688   28527.213536   13094.967274    9887.474193   \n",
       "min        0.000000       0.000000       0.000000       0.000000   \n",
       "25%      316.000000   67709.640000       0.000000     120.000000   \n",
       "50%      527.000000   86057.940000    1705.270000    2106.620000   \n",
       "75%      679.000000  106385.700000    9009.580000    7334.100000   \n",
       "max      886.000000  294580.020000  245131.880000  400184.250000   \n",
       "\n",
       "            TotalPay  \n",
       "count   20633.000000  \n",
       "mean   103951.725870  \n",
       "std     34651.036371  \n",
       "min     61290.010000  \n",
       "25%     76009.730000  \n",
       "50%     95361.010000  \n",
       "75%    123290.700000  \n",
       "max    567595.430000  "
      ]
     },
     "execution_count": 37,
     "metadata": {},
     "output_type": "execute_result"
    }
   ],
   "source": [
    "s.describe()"
   ]
  },
  {
   "cell_type": "code",
   "execution_count": 38,
   "metadata": {},
   "outputs": [
    {
     "data": {
      "text/html": [
       "<div>\n",
       "<style scoped>\n",
       "    .dataframe tbody tr th:only-of-type {\n",
       "        vertical-align: middle;\n",
       "    }\n",
       "\n",
       "    .dataframe tbody tr th {\n",
       "        vertical-align: top;\n",
       "    }\n",
       "\n",
       "    .dataframe thead th {\n",
       "        text-align: right;\n",
       "    }\n",
       "</style>\n",
       "<table border=\"1\" class=\"dataframe\">\n",
       "  <thead>\n",
       "    <tr style=\"text-align: right;\">\n",
       "      <th></th>\n",
       "      <th>JobTitle</th>\n",
       "      <th>BasePay</th>\n",
       "      <th>OvertimePay</th>\n",
       "      <th>OtherPay</th>\n",
       "      <th>TotalPay</th>\n",
       "    </tr>\n",
       "  </thead>\n",
       "  <tbody>\n",
       "    <tr>\n",
       "      <th>JobTitle</th>\n",
       "      <td>1.000000</td>\n",
       "      <td>-0.165911</td>\n",
       "      <td>0.053139</td>\n",
       "      <td>-0.026469</td>\n",
       "      <td>-0.124060</td>\n",
       "    </tr>\n",
       "    <tr>\n",
       "      <th>BasePay</th>\n",
       "      <td>-0.165911</td>\n",
       "      <td>1.000000</td>\n",
       "      <td>-0.051044</td>\n",
       "      <td>0.150963</td>\n",
       "      <td>0.847058</td>\n",
       "    </tr>\n",
       "    <tr>\n",
       "      <th>OvertimePay</th>\n",
       "      <td>0.053139</td>\n",
       "      <td>-0.051044</td>\n",
       "      <td>1.000000</td>\n",
       "      <td>0.272739</td>\n",
       "      <td>0.413711</td>\n",
       "    </tr>\n",
       "    <tr>\n",
       "      <th>OtherPay</th>\n",
       "      <td>-0.026469</td>\n",
       "      <td>0.150963</td>\n",
       "      <td>0.272739</td>\n",
       "      <td>1.000000</td>\n",
       "      <td>0.512699</td>\n",
       "    </tr>\n",
       "    <tr>\n",
       "      <th>TotalPay</th>\n",
       "      <td>-0.124060</td>\n",
       "      <td>0.847058</td>\n",
       "      <td>0.413711</td>\n",
       "      <td>0.512699</td>\n",
       "      <td>1.000000</td>\n",
       "    </tr>\n",
       "  </tbody>\n",
       "</table>\n",
       "</div>"
      ],
      "text/plain": [
       "             JobTitle   BasePay  OvertimePay  OtherPay  TotalPay\n",
       "JobTitle     1.000000 -0.165911     0.053139 -0.026469 -0.124060\n",
       "BasePay     -0.165911  1.000000    -0.051044  0.150963  0.847058\n",
       "OvertimePay  0.053139 -0.051044     1.000000  0.272739  0.413711\n",
       "OtherPay    -0.026469  0.150963     0.272739  1.000000  0.512699\n",
       "TotalPay    -0.124060  0.847058     0.413711  0.512699  1.000000"
      ]
     },
     "execution_count": 38,
     "metadata": {},
     "output_type": "execute_result"
    }
   ],
   "source": [
    "s.corr()"
   ]
  },
  {
   "cell_type": "code",
   "execution_count": 39,
   "metadata": {},
   "outputs": [
    {
     "data": {
      "text/plain": [
       "<matplotlib.axes._subplots.AxesSubplot at 0x1ba067e6700>"
      ]
     },
     "execution_count": 39,
     "metadata": {},
     "output_type": "execute_result"
    },
    {
     "data": {
      "image/png": "[encoded data removed]",
      "text/plain": [
       "<Figure size 432x288 with 2 Axes>"
      ]
     },
     "metadata": {
      "needs_background": "light"
     },
     "output_type": "display_data"
    }
   ],
   "source": [
    "sb.heatmap(s.corr())"
   ]
  },
  {
   "cell_type": "code",
   "execution_count": 40,
   "metadata": {},
   "outputs": [],
   "source": [
    "#shows jobtilte has negative co-relation to almost all titles\n",
    "#base pay and total pay and benefits has a postive relation with each other"
   ]
  },
  {
   "cell_type": "markdown",
   "metadata": {},
   "source": [
    "Checking Outliers"
   ]
  },
  {
   "cell_type": "code",
   "execution_count": 41,
   "metadata": {},
   "outputs": [],
   "source": [
    "import scipy"
   ]
  },
  {
   "cell_type": "code",
   "execution_count": 42,
   "metadata": {},
   "outputs": [],
   "source": [
    "from scipy import stats"
   ]
  },
  {
   "cell_type": "code",
   "execution_count": 43,
   "metadata": {},
   "outputs": [],
   "source": [
    "from scipy.stats import zscore"
   ]
  },
  {
   "cell_type": "code",
   "execution_count": 44,
   "metadata": {},
   "outputs": [],
   "source": [
    "z=np.abs(zscore(s))"
   ]
  },
  {
   "cell_type": "code",
   "execution_count": 45,
   "metadata": {},
   "outputs": [
    {
     "name": "stdout",
     "output_type": "stream",
     "text": [
      "(array([    0,     0,     1, ..., 19058, 19840, 20300], dtype=int64), array([3, 4, 2, ..., 3, 3, 3], dtype=int64))\n"
     ]
    }
   ],
   "source": [
    "print(np.where (z>3))"
   ]
  },
  {
   "cell_type": "code",
   "execution_count": 46,
   "metadata": {},
   "outputs": [],
   "source": [
    "ss=s[(z<3).all(axis=1)]"
   ]
  },
  {
   "cell_type": "code",
   "execution_count": 47,
   "metadata": {},
   "outputs": [
    {
     "data": {
      "text/plain": [
       "(19634, 5)"
      ]
     },
     "execution_count": 47,
     "metadata": {},
     "output_type": "execute_result"
    }
   ],
   "source": [
    "ss.shape"
   ]
  },
  {
   "cell_type": "markdown",
   "metadata": {},
   "source": [
    "Managing Skewness"
   ]
  },
  {
   "cell_type": "code",
   "execution_count": 48,
   "metadata": {},
   "outputs": [
    {
     "data": {
      "text/plain": [
       "JobTitle      -0.279970\n",
       "BasePay        0.792915\n",
       "OvertimePay    1.984182\n",
       "OtherPay       1.840368\n",
       "TotalPay       0.750912\n",
       "dtype: float64"
      ]
     },
     "execution_count": 48,
     "metadata": {},
     "output_type": "execute_result"
    }
   ],
   "source": [
    "ss.skew()"
   ]
  },
  {
   "cell_type": "code",
   "execution_count": 49,
   "metadata": {},
   "outputs": [],
   "source": [
    "from scipy.stats import boxcox\n",
    "import warnings \n",
    "warnings.filterwarnings('ignore')"
   ]
  },
  {
   "cell_type": "code",
   "execution_count": 50,
   "metadata": {},
   "outputs": [],
   "source": [
    "for col in ss.columns:\n",
    "    if ss.skew().loc[col]>0.55:\n",
    "        ss[col]=np.log1p(ss[col])"
   ]
  },
  {
   "cell_type": "code",
   "execution_count": 51,
   "metadata": {},
   "outputs": [
    {
     "data": {
      "text/plain": [
       "JobTitle      -0.279970\n",
       "BasePay        0.197329\n",
       "OvertimePay   -0.166557\n",
       "OtherPay      -0.892948\n",
       "TotalPay       0.291421\n",
       "dtype: float64"
      ]
     },
     "execution_count": 51,
     "metadata": {},
     "output_type": "execute_result"
    }
   ],
   "source": [
    "ss.skew()"
   ]
  },
  {
   "cell_type": "markdown",
   "metadata": {},
   "source": [
    "Machine Learning"
   ]
  },
  {
   "cell_type": "code",
   "execution_count": 52,
   "metadata": {},
   "outputs": [],
   "source": [
    "import sklearn\n",
    "from sklearn.linear_model import LinearRegression\n",
    "from sklearn.metrics import mean_squared_error\n",
    "from sklearn.metrics import mean_absolute_error\n",
    "from sklearn.model_selection import train_test_split\n",
    "from sklearn.metrics import r2_score"
   ]
  },
  {
   "cell_type": "code",
   "execution_count": 53,
   "metadata": {},
   "outputs": [
    {
     "data": {
      "text/html": [
       "<div>\n",
       "<style scoped>\n",
       "    .dataframe tbody tr th:only-of-type {\n",
       "        vertical-align: middle;\n",
       "    }\n",
       "\n",
       "    .dataframe tbody tr th {\n",
       "        vertical-align: top;\n",
       "    }\n",
       "\n",
       "    .dataframe thead th {\n",
       "        text-align: right;\n",
       "    }\n",
       "</style>\n",
       "<table border=\"1\" class=\"dataframe\">\n",
       "  <thead>\n",
       "    <tr style=\"text-align: right;\">\n",
       "      <th></th>\n",
       "      <th>JobTitle</th>\n",
       "      <th>BasePay</th>\n",
       "      <th>OvertimePay</th>\n",
       "      <th>OtherPay</th>\n",
       "      <th>TotalPay</th>\n",
       "    </tr>\n",
       "  </thead>\n",
       "  <tbody>\n",
       "    <tr>\n",
       "      <th>189</th>\n",
       "      <td>718</td>\n",
       "      <td>12.066457</td>\n",
       "      <td>0.000000</td>\n",
       "      <td>10.415222</td>\n",
       "      <td>12.241928</td>\n",
       "    </tr>\n",
       "    <tr>\n",
       "      <th>192</th>\n",
       "      <td>373</td>\n",
       "      <td>11.778814</td>\n",
       "      <td>10.676616</td>\n",
       "      <td>10.413325</td>\n",
       "      <td>12.240899</td>\n",
       "    </tr>\n",
       "    <tr>\n",
       "      <th>194</th>\n",
       "      <td>718</td>\n",
       "      <td>12.070245</td>\n",
       "      <td>0.000000</td>\n",
       "      <td>10.379834</td>\n",
       "      <td>12.239514</td>\n",
       "    </tr>\n",
       "    <tr>\n",
       "      <th>203</th>\n",
       "      <td>513</td>\n",
       "      <td>12.019730</td>\n",
       "      <td>8.994050</td>\n",
       "      <td>10.362845</td>\n",
       "      <td>12.234232</td>\n",
       "    </tr>\n",
       "    <tr>\n",
       "      <th>208</th>\n",
       "      <td>373</td>\n",
       "      <td>11.778880</td>\n",
       "      <td>10.685316</td>\n",
       "      <td>10.331737</td>\n",
       "      <td>12.230112</td>\n",
       "    </tr>\n",
       "    <tr>\n",
       "      <th>...</th>\n",
       "      <td>...</td>\n",
       "      <td>...</td>\n",
       "      <td>...</td>\n",
       "      <td>...</td>\n",
       "      <td>...</td>\n",
       "    </tr>\n",
       "    <tr>\n",
       "      <th>20628</th>\n",
       "      <td>885</td>\n",
       "      <td>11.003559</td>\n",
       "      <td>5.986628</td>\n",
       "      <td>6.715383</td>\n",
       "      <td>11.023677</td>\n",
       "    </tr>\n",
       "    <tr>\n",
       "      <th>20629</th>\n",
       "      <td>338</td>\n",
       "      <td>10.947255</td>\n",
       "      <td>8.265822</td>\n",
       "      <td>6.434530</td>\n",
       "      <td>11.023659</td>\n",
       "    </tr>\n",
       "    <tr>\n",
       "      <th>20630</th>\n",
       "      <td>661</td>\n",
       "      <td>11.023536</td>\n",
       "      <td>0.000000</td>\n",
       "      <td>0.000000</td>\n",
       "      <td>11.023536</td>\n",
       "    </tr>\n",
       "    <tr>\n",
       "      <th>20631</th>\n",
       "      <td>543</td>\n",
       "      <td>10.990721</td>\n",
       "      <td>5.754412</td>\n",
       "      <td>7.417424</td>\n",
       "      <td>11.023527</td>\n",
       "    </tr>\n",
       "    <tr>\n",
       "      <th>20632</th>\n",
       "      <td>223</td>\n",
       "      <td>10.883784</td>\n",
       "      <td>7.841689</td>\n",
       "      <td>8.602198</td>\n",
       "      <td>11.023388</td>\n",
       "    </tr>\n",
       "  </tbody>\n",
       "</table>\n",
       "<p>19634 rows × 5 columns</p>\n",
       "</div>"
      ],
      "text/plain": [
       "       JobTitle    BasePay  OvertimePay   OtherPay   TotalPay\n",
       "189         718  12.066457     0.000000  10.415222  12.241928\n",
       "192         373  11.778814    10.676616  10.413325  12.240899\n",
       "194         718  12.070245     0.000000  10.379834  12.239514\n",
       "203         513  12.019730     8.994050  10.362845  12.234232\n",
       "208         373  11.778880    10.685316  10.331737  12.230112\n",
       "...         ...        ...          ...        ...        ...\n",
       "20628       885  11.003559     5.986628   6.715383  11.023677\n",
       "20629       338  10.947255     8.265822   6.434530  11.023659\n",
       "20630       661  11.023536     0.000000   0.000000  11.023536\n",
       "20631       543  10.990721     5.754412   7.417424  11.023527\n",
       "20632       223  10.883784     7.841689   8.602198  11.023388\n",
       "\n",
       "[19634 rows x 5 columns]"
      ]
     },
     "execution_count": 53,
     "metadata": {},
     "output_type": "execute_result"
    }
   ],
   "source": [
    "ss"
   ]
  },
  {
   "cell_type": "code",
   "execution_count": 54,
   "metadata": {},
   "outputs": [],
   "source": [
    "x=ss.iloc[ : , : -1]\n",
    "y=ss.iloc[ : , -1]"
   ]
  },
  {
   "cell_type": "code",
   "execution_count": 55,
   "metadata": {},
   "outputs": [
    {
     "data": {
      "text/html": [
       "<div>\n",
       "<style scoped>\n",
       "    .dataframe tbody tr th:only-of-type {\n",
       "        vertical-align: middle;\n",
       "    }\n",
       "\n",
       "    .dataframe tbody tr th {\n",
       "        vertical-align: top;\n",
       "    }\n",
       "\n",
       "    .dataframe thead th {\n",
       "        text-align: right;\n",
       "    }\n",
       "</style>\n",
       "<table border=\"1\" class=\"dataframe\">\n",
       "  <thead>\n",
       "    <tr style=\"text-align: right;\">\n",
       "      <th></th>\n",
       "      <th>JobTitle</th>\n",
       "      <th>BasePay</th>\n",
       "      <th>OvertimePay</th>\n",
       "      <th>OtherPay</th>\n",
       "    </tr>\n",
       "  </thead>\n",
       "  <tbody>\n",
       "    <tr>\n",
       "      <th>189</th>\n",
       "      <td>718</td>\n",
       "      <td>12.066457</td>\n",
       "      <td>0.000000</td>\n",
       "      <td>10.415222</td>\n",
       "    </tr>\n",
       "    <tr>\n",
       "      <th>192</th>\n",
       "      <td>373</td>\n",
       "      <td>11.778814</td>\n",
       "      <td>10.676616</td>\n",
       "      <td>10.413325</td>\n",
       "    </tr>\n",
       "    <tr>\n",
       "      <th>194</th>\n",
       "      <td>718</td>\n",
       "      <td>12.070245</td>\n",
       "      <td>0.000000</td>\n",
       "      <td>10.379834</td>\n",
       "    </tr>\n",
       "    <tr>\n",
       "      <th>203</th>\n",
       "      <td>513</td>\n",
       "      <td>12.019730</td>\n",
       "      <td>8.994050</td>\n",
       "      <td>10.362845</td>\n",
       "    </tr>\n",
       "    <tr>\n",
       "      <th>208</th>\n",
       "      <td>373</td>\n",
       "      <td>11.778880</td>\n",
       "      <td>10.685316</td>\n",
       "      <td>10.331737</td>\n",
       "    </tr>\n",
       "    <tr>\n",
       "      <th>...</th>\n",
       "      <td>...</td>\n",
       "      <td>...</td>\n",
       "      <td>...</td>\n",
       "      <td>...</td>\n",
       "    </tr>\n",
       "    <tr>\n",
       "      <th>20628</th>\n",
       "      <td>885</td>\n",
       "      <td>11.003559</td>\n",
       "      <td>5.986628</td>\n",
       "      <td>6.715383</td>\n",
       "    </tr>\n",
       "    <tr>\n",
       "      <th>20629</th>\n",
       "      <td>338</td>\n",
       "      <td>10.947255</td>\n",
       "      <td>8.265822</td>\n",
       "      <td>6.434530</td>\n",
       "    </tr>\n",
       "    <tr>\n",
       "      <th>20630</th>\n",
       "      <td>661</td>\n",
       "      <td>11.023536</td>\n",
       "      <td>0.000000</td>\n",
       "      <td>0.000000</td>\n",
       "    </tr>\n",
       "    <tr>\n",
       "      <th>20631</th>\n",
       "      <td>543</td>\n",
       "      <td>10.990721</td>\n",
       "      <td>5.754412</td>\n",
       "      <td>7.417424</td>\n",
       "    </tr>\n",
       "    <tr>\n",
       "      <th>20632</th>\n",
       "      <td>223</td>\n",
       "      <td>10.883784</td>\n",
       "      <td>7.841689</td>\n",
       "      <td>8.602198</td>\n",
       "    </tr>\n",
       "  </tbody>\n",
       "</table>\n",
       "<p>19634 rows × 4 columns</p>\n",
       "</div>"
      ],
      "text/plain": [
       "       JobTitle    BasePay  OvertimePay   OtherPay\n",
       "189         718  12.066457     0.000000  10.415222\n",
       "192         373  11.778814    10.676616  10.413325\n",
       "194         718  12.070245     0.000000  10.379834\n",
       "203         513  12.019730     8.994050  10.362845\n",
       "208         373  11.778880    10.685316  10.331737\n",
       "...         ...        ...          ...        ...\n",
       "20628       885  11.003559     5.986628   6.715383\n",
       "20629       338  10.947255     8.265822   6.434530\n",
       "20630       661  11.023536     0.000000   0.000000\n",
       "20631       543  10.990721     5.754412   7.417424\n",
       "20632       223  10.883784     7.841689   8.602198\n",
       "\n",
       "[19634 rows x 4 columns]"
      ]
     },
     "execution_count": 55,
     "metadata": {},
     "output_type": "execute_result"
    }
   ],
   "source": [
    "x"
   ]
  },
  {
   "cell_type": "code",
   "execution_count": 56,
   "metadata": {},
   "outputs": [
    {
     "data": {
      "text/plain": [
       "189      12.241928\n",
       "192      12.240899\n",
       "194      12.239514\n",
       "203      12.234232\n",
       "208      12.230112\n",
       "           ...    \n",
       "20628    11.023677\n",
       "20629    11.023659\n",
       "20630    11.023536\n",
       "20631    11.023527\n",
       "20632    11.023388\n",
       "Name: TotalPay, Length: 19634, dtype: float64"
      ]
     },
     "execution_count": 56,
     "metadata": {},
     "output_type": "execute_result"
    }
   ],
   "source": [
    "y"
   ]
  },
  {
   "cell_type": "code",
   "execution_count": 57,
   "metadata": {},
   "outputs": [],
   "source": [
    "from sklearn.preprocessing import StandardScaler"
   ]
  },
  {
   "cell_type": "code",
   "execution_count": 58,
   "metadata": {},
   "outputs": [],
   "source": [
    "scale=StandardScaler()\n",
    "xs=scale.fit_transform(x)\n",
    "xs=pd.DataFrame(xs,columns=x.columns)"
   ]
  },
  {
   "cell_type": "code",
   "execution_count": 59,
   "metadata": {},
   "outputs": [
    {
     "data": {
      "text/html": [
       "<div>\n",
       "<style scoped>\n",
       "    .dataframe tbody tr th:only-of-type {\n",
       "        vertical-align: middle;\n",
       "    }\n",
       "\n",
       "    .dataframe tbody tr th {\n",
       "        vertical-align: top;\n",
       "    }\n",
       "\n",
       "    .dataframe thead th {\n",
       "        text-align: right;\n",
       "    }\n",
       "</style>\n",
       "<table border=\"1\" class=\"dataframe\">\n",
       "  <thead>\n",
       "    <tr style=\"text-align: right;\">\n",
       "      <th></th>\n",
       "      <th>JobTitle</th>\n",
       "      <th>BasePay</th>\n",
       "      <th>OvertimePay</th>\n",
       "      <th>OtherPay</th>\n",
       "    </tr>\n",
       "  </thead>\n",
       "  <tbody>\n",
       "    <tr>\n",
       "      <th>0</th>\n",
       "      <td>0.935314</td>\n",
       "      <td>2.514246</td>\n",
       "      <td>-1.130539</td>\n",
       "      <td>1.190539</td>\n",
       "    </tr>\n",
       "    <tr>\n",
       "      <th>1</th>\n",
       "      <td>-0.528824</td>\n",
       "      <td>1.486604</td>\n",
       "      <td>1.299820</td>\n",
       "      <td>1.190015</td>\n",
       "    </tr>\n",
       "    <tr>\n",
       "      <th>2</th>\n",
       "      <td>0.935314</td>\n",
       "      <td>2.527780</td>\n",
       "      <td>-1.130539</td>\n",
       "      <td>1.180759</td>\n",
       "    </tr>\n",
       "    <tr>\n",
       "      <th>3</th>\n",
       "      <td>0.065319</td>\n",
       "      <td>2.347306</td>\n",
       "      <td>0.916811</td>\n",
       "      <td>1.176063</td>\n",
       "    </tr>\n",
       "    <tr>\n",
       "      <th>4</th>\n",
       "      <td>-0.528824</td>\n",
       "      <td>1.486840</td>\n",
       "      <td>1.301800</td>\n",
       "      <td>1.167466</td>\n",
       "    </tr>\n",
       "    <tr>\n",
       "      <th>...</th>\n",
       "      <td>...</td>\n",
       "      <td>...</td>\n",
       "      <td>...</td>\n",
       "      <td>...</td>\n",
       "    </tr>\n",
       "    <tr>\n",
       "      <th>19629</th>\n",
       "      <td>1.644041</td>\n",
       "      <td>-1.283093</td>\n",
       "      <td>0.232220</td>\n",
       "      <td>0.167994</td>\n",
       "    </tr>\n",
       "    <tr>\n",
       "      <th>19630</th>\n",
       "      <td>-0.677360</td>\n",
       "      <td>-1.484245</td>\n",
       "      <td>0.751042</td>\n",
       "      <td>0.090373</td>\n",
       "    </tr>\n",
       "    <tr>\n",
       "      <th>19631</th>\n",
       "      <td>0.693413</td>\n",
       "      <td>-1.211721</td>\n",
       "      <td>-1.130539</td>\n",
       "      <td>-1.687974</td>\n",
       "    </tr>\n",
       "    <tr>\n",
       "      <th>19632</th>\n",
       "      <td>0.192635</td>\n",
       "      <td>-1.328957</td>\n",
       "      <td>0.179360</td>\n",
       "      <td>0.362021</td>\n",
       "    </tr>\n",
       "    <tr>\n",
       "      <th>19633</th>\n",
       "      <td>-1.165406</td>\n",
       "      <td>-1.711006</td>\n",
       "      <td>0.654495</td>\n",
       "      <td>0.689463</td>\n",
       "    </tr>\n",
       "  </tbody>\n",
       "</table>\n",
       "<p>19634 rows × 4 columns</p>\n",
       "</div>"
      ],
      "text/plain": [
       "       JobTitle   BasePay  OvertimePay  OtherPay\n",
       "0      0.935314  2.514246    -1.130539  1.190539\n",
       "1     -0.528824  1.486604     1.299820  1.190015\n",
       "2      0.935314  2.527780    -1.130539  1.180759\n",
       "3      0.065319  2.347306     0.916811  1.176063\n",
       "4     -0.528824  1.486840     1.301800  1.167466\n",
       "...         ...       ...          ...       ...\n",
       "19629  1.644041 -1.283093     0.232220  0.167994\n",
       "19630 -0.677360 -1.484245     0.751042  0.090373\n",
       "19631  0.693413 -1.211721    -1.130539 -1.687974\n",
       "19632  0.192635 -1.328957     0.179360  0.362021\n",
       "19633 -1.165406 -1.711006     0.654495  0.689463\n",
       "\n",
       "[19634 rows x 4 columns]"
      ]
     },
     "execution_count": 59,
     "metadata": {},
     "output_type": "execute_result"
    }
   ],
   "source": [
    "xs"
   ]
  },
  {
   "cell_type": "code",
   "execution_count": 60,
   "metadata": {},
   "outputs": [
    {
     "name": "stdout",
     "output_type": "stream",
     "text": [
      "At R state 42 r2_score is 0.9127464627237423\n",
      "At R state 43 r2_score is 0.9196558831401852\n",
      "At R state 44 r2_score is 0.9147596247023\n",
      "At R state 45 r2_score is 0.9128446252012379\n",
      "At R state 46 r2_score is 0.91506877971265\n",
      "At R state 47 r2_score is 0.9173416411354801\n",
      "At R state 48 r2_score is 0.9152331078960149\n",
      "At R state 49 r2_score is 0.915286984880308\n",
      "At R state 50 r2_score is 0.9134915101103501\n",
      "At R state 51 r2_score is 0.9159541444294336\n",
      "At R state 52 r2_score is 0.9084827159323126\n",
      "At R state 53 r2_score is 0.9130083861731874\n",
      "At R state 54 r2_score is 0.9116099835830882\n",
      "At R state 55 r2_score is 0.9098986466198412\n",
      "At R state 56 r2_score is 0.9143786710870689\n",
      "At R state 57 r2_score is 0.9177035679542266\n",
      "At R state 58 r2_score is 0.9111055118333306\n",
      "At R state 59 r2_score is 0.9161314703736367\n",
      "At R state 60 r2_score is 0.9067894883889247\n",
      "At R state 61 r2_score is 0.9173859669063738\n",
      "At R state 62 r2_score is 0.9102388632287581\n",
      "At R state 63 r2_score is 0.9137212736367771\n",
      "At R state 64 r2_score is 0.9173944348325114\n",
      "At R state 65 r2_score is 0.9086265636971009\n",
      "At R state 66 r2_score is 0.9160813847501703\n",
      "At R state 67 r2_score is 0.9154226404213526\n",
      "At R state 68 r2_score is 0.9147582204899982\n",
      "At R state 69 r2_score is 0.9159719094255382\n",
      "At R state 70 r2_score is 0.9102540933395021\n",
      "At R state 71 r2_score is 0.9184403888705553\n",
      "At R state 72 r2_score is 0.9061552315424319\n",
      "At R state 73 r2_score is 0.9140409694368026\n",
      "At R state 74 r2_score is 0.9109654204784003\n",
      "At R state 75 r2_score is 0.9139025576344678\n",
      "At R state 76 r2_score is 0.9179434137793868\n",
      "At R state 77 r2_score is 0.9077598574701188\n",
      "At R state 78 r2_score is 0.9092239495986404\n",
      "At R state 79 r2_score is 0.9158883079325919\n",
      "At R state 80 r2_score is 0.9149517108856328\n",
      "At R state 81 r2_score is 0.9180757572739706\n",
      "At R state 82 r2_score is 0.9205964838254965\n",
      "At R state 83 r2_score is 0.9181406533353464\n",
      "At R state 84 r2_score is 0.9206351132690869\n",
      "At R state 85 r2_score is 0.9120386762293555\n",
      "At R state 86 r2_score is 0.9138293966825227\n",
      "At R state 87 r2_score is 0.9061031168534791\n",
      "At R state 88 r2_score is 0.9142503107063656\n",
      "At R state 89 r2_score is 0.9196882847426874\n",
      "At R state 90 r2_score is 0.9068182975558505\n",
      "At R state 91 r2_score is 0.9178882204722605\n",
      "At R state 92 r2_score is 0.9193773642396075\n",
      "At R state 93 r2_score is 0.9091999487379236\n",
      "At R state 94 r2_score is 0.9204777582403799\n",
      "At R state 95 r2_score is 0.913596164437443\n",
      "At R state 96 r2_score is 0.9139349341416646\n",
      "At R state 97 r2_score is 0.917240989537014\n",
      "At R state 98 r2_score is 0.9200565108439184\n",
      "At R state 99 r2_score is 0.9180781423616721\n",
      "At R state 100 r2_score is 0.9146057301941348\n",
      "\n",
      "\n",
      "Max Score is 0.9206351132690869 at 84\n"
     ]
    }
   ],
   "source": [
    "max_r_score=0\n",
    "for r_state in range(42,101):\n",
    "    xs_train,xs_test,y_train,y_test=train_test_split(xs,y,random_state=r_state,test_size=0.20)\n",
    "    lr=LinearRegression()\n",
    "    lr.fit(xs_train,y_train)\n",
    "    pred=lr.predict(xs_test)\n",
    "    r_score=r2_score(pred,y_test)\n",
    "    \n",
    "    print(\"At R state\",r_state,\"r2_score is\", r_score)\n",
    "    \n",
    "    if r_score>max_r_score:\n",
    "        max_r_score=r_score\n",
    "        final_r_state=r_state\n",
    "print(\"\\n\")\n",
    "print(\"Max Score is\",max_r_score,\"at\",final_r_state)"
   ]
  },
  {
   "cell_type": "code",
   "execution_count": 61,
   "metadata": {},
   "outputs": [
    {
     "name": "stdout",
     "output_type": "stream",
     "text": [
      "-1.4283088967462205\n"
     ]
    }
   ],
   "source": [
    "from sklearn.model_selection import cross_val_score\n",
    "c=cross_val_score(lr,xs,y,cv=5,scoring=\"r2\").mean()\n",
    "print(c)"
   ]
  },
  {
   "cell_type": "code",
   "execution_count": 62,
   "metadata": {},
   "outputs": [],
   "source": [
    "#model is underfit"
   ]
  },
  {
   "cell_type": "code",
   "execution_count": 63,
   "metadata": {},
   "outputs": [],
   "source": [
    "xs_train,xs_test,y_train,y_test=train_test_split(xs,y,random_state=84,test_size=0.20)\n",
    "lr.fit(xs_train,y_train)\n",
    "preda=lr.predict(xs_test)"
   ]
  },
  {
   "cell_type": "code",
   "execution_count": 69,
   "metadata": {},
   "outputs": [
    {
     "name": "stdout",
     "output_type": "stream",
     "text": [
      "0.9206351132690869\n",
      "error 0.0757584737848126\n"
     ]
    }
   ],
   "source": [
    "print(r2_score(preda,y_test))\n",
    "print(\"error\",np.sqrt(mean_squared_error(preda,y_test)))"
   ]
  },
  {
   "cell_type": "code",
   "execution_count": 70,
   "metadata": {},
   "outputs": [],
   "source": [
    "import joblib"
   ]
  },
  {
   "cell_type": "code",
   "execution_count": 72,
   "metadata": {},
   "outputs": [
    {
     "data": {
      "text/plain": [
       "['lrfile.obj']"
      ]
     },
     "execution_count": 72,
     "metadata": {},
     "output_type": "execute_result"
    }
   ],
   "source": [
    "joblib.dump(lr,'lrfile.obj')"
   ]
  },
  {
   "cell_type": "code",
   "execution_count": null,
   "metadata": {},
   "outputs": [],
   "source": []
  }
 ],
 "metadata": {
  "kernelspec": {
   "display_name": "Python 3",
   "language": "python",
   "name": "python3"
  },
  "language_info": {
   "codemirror_mode": {
    "name": "ipython",
    "version": 3
   },
   "file_extension": ".py",
   "mimetype": "text/x-python",
   "name": "python",
   "nbconvert_exporter": "python",
   "pygments_lexer": "ipython3",
   "version": "3.8.3"
  }
 },
 "nbformat": 4,
 "nbformat_minor": 4
}
